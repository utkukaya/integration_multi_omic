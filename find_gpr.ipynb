{
 "cells": [
  {
   "cell_type": "code",
   "execution_count": 1,
   "metadata": {},
   "outputs": [],
   "source": [
    "import pandas as pd\n",
    "import numpy as np  \n",
    "from cobra.core.gene import parse_gpr, ast2str, GPR, eval_gpr\n",
    "import cobra\n",
    "# import py4cytoscape as p4c\n",
    "# from py4cytoscape import gen_node_color_map\n",
    "# from py4cytoscape import gen_edge_arrow_map\n",
    "# from py4cytoscape import gen_node_shape_map\n",
    "from helper.eval_gpr import evaluate_gpr\n",
    "import random\n",
    "\n"
   ]
  },
  {
   "cell_type": "code",
   "execution_count": 2,
   "metadata": {},
   "outputs": [],
   "source": [
    "all_nodes = pd.read_csv('./network_data/removed_metabolitic_and_mirna_nodes_without_ppi.csv')\n",
    "all_edges = pd.read_csv('./network_data/removed_metabolitic_and_mirna_edges_without_ppi.csv')"
   ]
  },
  {
   "cell_type": "code",
   "execution_count": 3,
   "metadata": {},
   "outputs": [
    {
     "name": "stdout",
     "output_type": "stream",
     "text": [
      "number of nodes:  41722\n",
      "number of edges:  1019676\n"
     ]
    }
   ],
   "source": [
    "print(\"number of nodes: \", len(all_nodes))\n",
    "print(\"number of edges: \", len(all_edges))"
   ]
  },
  {
   "cell_type": "markdown",
   "metadata": {},
   "source": [
    "# Load Model "
   ]
  },
  {
   "cell_type": "code",
   "execution_count": 4,
   "metadata": {},
   "outputs": [],
   "source": [
    "model = cobra.io.load_json_model(\"./datasets/network_datasets/Recon3D.json\")"
   ]
  },
  {
   "cell_type": "markdown",
   "metadata": {},
   "source": [
    "# Remove Same Edges"
   ]
  },
  {
   "cell_type": "code",
   "execution_count": 5,
   "metadata": {},
   "outputs": [],
   "source": [
    "unique_edges = all_edges.groupby(['source', 'target', 'interaction']).head(1)\n",
    "\n",
    "all_edges = all_edges.loc[unique_edges.index]"
   ]
  },
  {
   "cell_type": "code",
   "execution_count": 6,
   "metadata": {},
   "outputs": [
    {
     "name": "stdout",
     "output_type": "stream",
     "text": [
      "number of nodes:  41722\n",
      "number of edges:  746994\n"
     ]
    }
   ],
   "source": [
    "print(\"number of nodes: \", len(all_nodes))\n",
    "print(\"number of edges: \", len(all_edges))"
   ]
  },
  {
   "cell_type": "markdown",
   "metadata": {},
   "source": [
    "# Evaluate Gpr"
   ]
  },
  {
   "cell_type": "code",
   "execution_count": 7,
   "metadata": {},
   "outputs": [
    {
     "data": {
      "text/plain": [
       "'(4967_AT2 and 1738_AT1 and 8050_AT1 and 1743_AT1) or (4967_AT1 and 1738_AT1 and 8050_AT1 and 1743_AT1)'"
      ]
     },
     "execution_count": 7,
     "metadata": {},
     "output_type": "execute_result"
    }
   ],
   "source": [
    "reaction = model.reactions.get_by_id('2OXOADOXm')\n",
    "reaction.gene_reaction_rule"
   ]
  },
  {
   "cell_type": "code",
   "execution_count": 8,
   "metadata": {},
   "outputs": [
    {
     "data": {
      "text/html": [
       "\n",
       "        <table>\n",
       "            <tr>\n",
       "                <td><strong>Gene identifier</strong></td><td>8050_AT1</td>\n",
       "            </tr><tr>\n",
       "                <td><strong>Name</strong></td><td>PDHX</td>\n",
       "            </tr><tr>\n",
       "                <td><strong>Memory address</strong></td>\n",
       "                <td>0x7fa9e11855b0</td>\n",
       "            </tr><tr>\n",
       "                <td><strong>Functional</strong></td><td>True</td>\n",
       "            </tr><tr>\n",
       "                <td><strong>In 3 reaction(s)</strong></td><td>\n",
       "                    PDHm, 2OXOADOXm, AKGDm\n",
       "                    </td>\n",
       "            </tr>\n",
       "        </table>"
      ],
      "text/plain": [
       "<Gene 8050_AT1 at 0x7fa9e11855b0>"
      ]
     },
     "execution_count": 8,
     "metadata": {},
     "output_type": "execute_result"
    }
   ],
   "source": [
    "model.genes.get_by_id('8050_AT1')"
   ]
  },
  {
   "cell_type": "code",
   "execution_count": 9,
   "metadata": {},
   "outputs": [
    {
     "data": {
      "text/html": [
       "<div>\n",
       "<style scoped>\n",
       "    .dataframe tbody tr th:only-of-type {\n",
       "        vertical-align: middle;\n",
       "    }\n",
       "\n",
       "    .dataframe tbody tr th {\n",
       "        vertical-align: top;\n",
       "    }\n",
       "\n",
       "    .dataframe thead th {\n",
       "        text-align: right;\n",
       "    }\n",
       "</style>\n",
       "<table border=\"1\" class=\"dataframe\">\n",
       "  <thead>\n",
       "    <tr style=\"text-align: right;\">\n",
       "      <th></th>\n",
       "      <th>Unnamed: 0.2</th>\n",
       "      <th>Unnamed: 0.1</th>\n",
       "      <th>Unnamed: 0</th>\n",
       "      <th>id</th>\n",
       "      <th>group</th>\n",
       "    </tr>\n",
       "  </thead>\n",
       "  <tbody>\n",
       "    <tr>\n",
       "      <th>24349</th>\n",
       "      <td>24382</td>\n",
       "      <td>24382</td>\n",
       "      <td>24382</td>\n",
       "      <td>24_25DHVITD3tm</td>\n",
       "      <td>reaction</td>\n",
       "    </tr>\n",
       "    <tr>\n",
       "      <th>24352</th>\n",
       "      <td>24385</td>\n",
       "      <td>24385</td>\n",
       "      <td>24385</td>\n",
       "      <td>25HVITD3t</td>\n",
       "      <td>reaction</td>\n",
       "    </tr>\n",
       "    <tr>\n",
       "      <th>24355</th>\n",
       "      <td>24388</td>\n",
       "      <td>24388</td>\n",
       "      <td>24388</td>\n",
       "      <td>COAtl</td>\n",
       "      <td>reaction</td>\n",
       "    </tr>\n",
       "    <tr>\n",
       "      <th>24357</th>\n",
       "      <td>24390</td>\n",
       "      <td>24391</td>\n",
       "      <td>24391</td>\n",
       "      <td>EX_5adtststerone_e</td>\n",
       "      <td>reaction</td>\n",
       "    </tr>\n",
       "    <tr>\n",
       "      <th>24359</th>\n",
       "      <td>24392</td>\n",
       "      <td>24393</td>\n",
       "      <td>24393</td>\n",
       "      <td>EX_5adtststerones_e</td>\n",
       "      <td>reaction</td>\n",
       "    </tr>\n",
       "    <tr>\n",
       "      <th>...</th>\n",
       "      <td>...</td>\n",
       "      <td>...</td>\n",
       "      <td>...</td>\n",
       "      <td>...</td>\n",
       "      <td>...</td>\n",
       "    </tr>\n",
       "    <tr>\n",
       "      <th>41716</th>\n",
       "      <td>41749</td>\n",
       "      <td>42677</td>\n",
       "      <td>42677</td>\n",
       "      <td>ACMPGLUTTRsc</td>\n",
       "      <td>reaction</td>\n",
       "    </tr>\n",
       "    <tr>\n",
       "      <th>41718</th>\n",
       "      <td>41751</td>\n",
       "      <td>42679</td>\n",
       "      <td>42679</td>\n",
       "      <td>FVSCOAhc</td>\n",
       "      <td>reaction</td>\n",
       "    </tr>\n",
       "    <tr>\n",
       "      <th>41719</th>\n",
       "      <td>41752</td>\n",
       "      <td>42680</td>\n",
       "      <td>42680</td>\n",
       "      <td>MDZGLChr</td>\n",
       "      <td>reaction</td>\n",
       "    </tr>\n",
       "    <tr>\n",
       "      <th>41720</th>\n",
       "      <td>41753</td>\n",
       "      <td>42681</td>\n",
       "      <td>42681</td>\n",
       "      <td>TMACMPhr</td>\n",
       "      <td>reaction</td>\n",
       "    </tr>\n",
       "    <tr>\n",
       "      <th>41721</th>\n",
       "      <td>41754</td>\n",
       "      <td>42682</td>\n",
       "      <td>42682</td>\n",
       "      <td>CYSACMPitr</td>\n",
       "      <td>reaction</td>\n",
       "    </tr>\n",
       "  </tbody>\n",
       "</table>\n",
       "<p>10398 rows × 5 columns</p>\n",
       "</div>"
      ],
      "text/plain": [
       "       Unnamed: 0.2  Unnamed: 0.1  Unnamed: 0                   id     group\n",
       "24349         24382         24382       24382       24_25DHVITD3tm  reaction\n",
       "24352         24385         24385       24385            25HVITD3t  reaction\n",
       "24355         24388         24388       24388                COAtl  reaction\n",
       "24357         24390         24391       24391   EX_5adtststerone_e  reaction\n",
       "24359         24392         24393       24393  EX_5adtststerones_e  reaction\n",
       "...             ...           ...         ...                  ...       ...\n",
       "41716         41749         42677       42677         ACMPGLUTTRsc  reaction\n",
       "41718         41751         42679       42679             FVSCOAhc  reaction\n",
       "41719         41752         42680       42680             MDZGLChr  reaction\n",
       "41720         41753         42681       42681             TMACMPhr  reaction\n",
       "41721         41754         42682       42682           CYSACMPitr  reaction\n",
       "\n",
       "[10398 rows x 5 columns]"
      ]
     },
     "execution_count": 9,
     "metadata": {},
     "output_type": "execute_result"
    }
   ],
   "source": [
    "all_nodes[all_nodes['group'] == 'reaction']"
   ]
  },
  {
   "cell_type": "code",
   "execution_count": null,
   "metadata": {},
   "outputs": [],
   "source": [
    "# reaction = model.reactions.get_by_id('24_25VITD3Hm')\n",
    "result_array = []\n",
    "for index, reaction_row in all_nodes[all_nodes['group'] == 'reaction'].iterrows():\n",
    "    reaction = model.reactions.get_by_id(reaction_row.id)\n",
    "\n",
    "    _, frozenset = parse_gpr(reaction.gene_reaction_rule)\n",
    "    gene_values = {}\n",
    "    for gene in frozenset:\n",
    "        gene_values[gene] = random.uniform(0.0, 1.0)\n",
    "    result = evaluate_gpr(reaction.gene_reaction_rule, knockouts={}, gene_values=gene_values)\n",
    "    # if(result != 0.7 and result != 0.0):\n",
    "    result_array.append(result)\n",
    "print((result_array))\n"
   ]
  },
  {
   "cell_type": "code",
   "execution_count": 11,
   "metadata": {},
   "outputs": [
    {
     "data": {
      "text/plain": [
       "'221_AT1 or 218_AT1 or 220_AT1'"
      ]
     },
     "execution_count": 11,
     "metadata": {},
     "output_type": "execute_result"
    }
   ],
   "source": [
    "reaction = model.reactions.get_by_id(\"34DHXMANDACOX\")\n",
    "reaction.gene_reaction_rule"
   ]
  },
  {
   "cell_type": "code",
   "execution_count": 12,
   "metadata": {},
   "outputs": [
    {
     "data": {
      "text/plain": [
       "(0.2, '218_AT1')"
      ]
     },
     "execution_count": 12,
     "metadata": {},
     "output_type": "execute_result"
    }
   ],
   "source": [
    "values = {'4967_AT2': 0.51, '1738_AT1': 0.62, '8050_AT1': 0.93, '1743_AT1': 0.87, '4967_AT1': 0.75, '117247_AT1': 0.8}\n",
    "values = {'221_AT1': 0.18, '218_AT1': 0.2, '220_AT1': 0.8}\n",
    "evaluate_gpr(reaction.gene_reaction_rule, knockouts={'220_AT1'}, gene_values=values)\n"
   ]
  }
 ],
 "metadata": {
  "kernelspec": {
   "display_name": "Python 3.8.12",
   "language": "python",
   "name": "python3"
  },
  "language_info": {
   "codemirror_mode": {
    "name": "ipython",
    "version": 3
   },
   "file_extension": ".py",
   "mimetype": "text/x-python",
   "name": "python",
   "nbconvert_exporter": "python",
   "pygments_lexer": "ipython3",
   "version": "3.8.12"
  },
  "vscode": {
   "interpreter": {
    "hash": "778c5b0b8544ccffd5f6322101d309514d83dbe7fc6be5eb2559e1a8cad2027f"
   }
  }
 },
 "nbformat": 4,
 "nbformat_minor": 2
}
